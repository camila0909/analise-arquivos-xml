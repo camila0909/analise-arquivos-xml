{
 "cells": [
  {
   "cell_type": "markdown",
   "metadata": {},
   "source": [
    "# Busca de Processos em Revista RPI"
   ]
  },
  {
   "cell_type": "code",
   "execution_count": 2,
   "metadata": {},
   "outputs": [],
   "source": [
    "import xml.etree.ElementTree as et\n", 
    "from xml.etree.ElementTree import Element\n",
    "\n",
    "arquivo = et.parse('versao_teste_marcas.xml')\n",
    "revista = arquivo.getroot()\n",
    "\n",
    "lista_processos = ['501507754'\n",
    "             '501522661',\n",
    "             '999999999',\n",
    "             '501505555'\n",
    "]\n",
    "\n",
    "for processo in revista.findall('processo'):\n",
    "    for despachos in processo.findall('despachos'):\n",
    "      for despacho in despachos:\n",
    "        for titulares in processo.findall('titulares'):\n"
    "          for titular in titulares:\n",  
    "              numero_processo = processo.get('numero')\n",
    "              texto = despacho.get('nome')\n",
    "             titular = titular.get('nome-razao-social')\n",
    "              if  numero_processo in lista_processos:\n",
    "                  print('\tNúmero do Processo: '+ numero_processo)\n",
    "                  print('\tTitular: '+ titular)\n",
    "                  print('\tSituação do Processo: '+ texto)\n",
    "                  print()\n",     
    "                  print('***********************')\n"
   ]
  } 
