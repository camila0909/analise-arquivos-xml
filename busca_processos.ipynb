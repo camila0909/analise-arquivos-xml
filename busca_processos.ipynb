import xml.etree.ElementTree as et 
from xml.etree.ElementTree import Element

arquivo = et.parse("versao_teste_marcas.xml")
revista = arquivo.getroot()

lista_processos = ["501507754",
              "501522661",
              "999999999",
              "501505555"
 ]

for processo in revista.findall('processo'): 
    for despachos in processo.findall('despachos'):
      for despacho in despachos:
        for titulares in processo.findall('titulares'):
          for titular in titulares:  
              numero_processo = processo.get('numero')
              texto = despacho.get('nome')
              titular = titular.get('nome-razao-social')
              if  numero_processo in lista_processos:
                  print('\tNúmero do Processo: '+ numero_processo)
                  print('\tTitular: '+ titular)
                  print('\tSituação do Processo: '+ texto)
                  print()     
                  print('***********************')"
   ]
  }
   
